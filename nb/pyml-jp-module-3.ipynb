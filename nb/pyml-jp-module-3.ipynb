{
 "cells": [
  {
   "cell_type": "markdown",
   "metadata": {},
   "source": [
    "---\n",
    "\n",
    "_You are currently looking at **version 1.0** of this notebook. To download notebooks and datafiles, as well as get help on Jupyter notebooks in the Coursera platform, visit the [Jupyter Notebook FAQ](https://www.coursera.org/learn/python-machine-learning/resources/bANLa) course resource._\n",
    "\n",
    "---"
   ]
  },
  {
   "cell_type": "markdown",
   "metadata": {
    "collapsed": true
   },
   "source": [
    "# Applied Machine Learning: Module 3 (Evaluation)"
   ]
  },
  {
   "cell_type": "markdown",
   "metadata": {},
   "source": [
    "## Evaluation for Classification"
   ]
  },
  {
   "cell_type": "markdown",
   "metadata": {},
   "source": [
    "### Preamble"
   ]
  },
  {
   "cell_type": "code",
   "execution_count": 1,
   "metadata": {
    "collapsed": false
   },
   "outputs": [
    {
     "name": "stdout",
     "output_type": "stream",
     "text": [
      "0 178\n",
      "1 182\n",
      "2 177\n",
      "3 183\n",
      "4 181\n",
      "5 182\n",
      "6 181\n",
      "7 179\n",
      "8 174\n",
      "9 180\n"
     ]
    }
   ],
   "source": [
    "%matplotlib notebook\n",
    "import numpy as np\n",
    "import pandas as pd\n",
    "import seaborn as sns\n",
    "import matplotlib.pyplot as plt\n",
    "from sklearn.model_selection import train_test_split\n",
    "from sklearn.datasets import load_digits\n",
    "\n",
    "dataset = load_digits()\n",
    "X, y = dataset.data, dataset.target\n",
    "\n",
    "for class_name, class_count in zip(dataset.target_names, np.bincount(dataset.target)):\n",
    "    print(class_name,class_count)"
   ]
  },
  {
   "cell_type": "code",
   "execution_count": 2,
   "metadata": {
    "collapsed": false
   },
   "outputs": [
    {
     "name": "stdout",
     "output_type": "stream",
     "text": [
      "Original labels:\t [1 2 3 4 5 6 7 8 9 0 1 2 3 4 5 6 7 8 9 0 1 2 3 4 5 6 7 8 9]\n",
      "New binary labels:\t [1 0 0 0 0 0 0 0 0 0 1 0 0 0 0 0 0 0 0 0 1 0 0 0 0 0 0 0 0]\n"
     ]
    }
   ],
   "source": [
    "# Creating a dataset with imbalanced binary classes:  \n",
    "# Negative class (0) is 'not digit 1' \n",
    "# Positive class (1) is 'digit 1'\n",
    "y_binary_imbalanced = y.copy()\n",
    "y_binary_imbalanced[y_binary_imbalanced != 1] = 0\n",
    "\n",
    "print('Original labels:\\t', y[1:30])\n",
    "print('New binary labels:\\t', y_binary_imbalanced[1:30])"
   ]
  },
  {
   "cell_type": "code",
   "execution_count": 3,
   "metadata": {
    "collapsed": false,
    "scrolled": true
   },
   "outputs": [
    {
     "data": {
      "text/plain": [
       "array([1615,  182])"
      ]
     },
     "execution_count": 3,
     "metadata": {},
     "output_type": "execute_result"
    }
   ],
   "source": [
    "np.bincount(y_binary_imbalanced)    # Negative class (0) is the most frequent class"
   ]
  },
  {
   "cell_type": "code",
   "execution_count": 4,
   "metadata": {
    "collapsed": false
   },
   "outputs": [
    {
     "data": {
      "text/plain": [
       "0.90888888888888886"
      ]
     },
     "execution_count": 4,
     "metadata": {},
     "output_type": "execute_result"
    }
   ],
   "source": [
    "X_train, X_test, y_train, y_test = train_test_split(X, y_binary_imbalanced, random_state=0)\n",
    "\n",
    "# Accuracy of Support Vector Machine classifier\n",
    "from sklearn.svm import SVC\n",
    "\n",
    "svm = SVC(kernel='rbf', C=1).fit(X_train, y_train)\n",
    "svm.score(X_test, y_test)"
   ]
  },
  {
   "cell_type": "markdown",
   "metadata": {},
   "source": [
    "### Dummy Classifiers"
   ]
  },
  {
   "cell_type": "markdown",
   "metadata": {
    "collapsed": true
   },
   "source": [
    "DummyClassifier is a classifier that makes predictions using simple rules, which can be useful as a baseline for comparison against actual classifiers, especially with imbalanced classes."
   ]
  },
  {
   "cell_type": "code",
   "execution_count": 5,
   "metadata": {
    "collapsed": false
   },
   "outputs": [
    {
     "data": {
      "text/plain": [
       "array([0, 0, 0, 0, 0, 0, 0, 0, 0, 0, 0, 0, 0, 0, 0, 0, 0, 0, 0, 0, 0, 0, 0,\n",
       "       0, 0, 0, 0, 0, 0, 0, 0, 0, 0, 0, 0, 0, 0, 0, 0, 0, 0, 0, 0, 0, 0, 0,\n",
       "       0, 0, 0, 0, 0, 0, 0, 0, 0, 0, 0, 0, 0, 0, 0, 0, 0, 0, 0, 0, 0, 0, 0,\n",
       "       0, 0, 0, 0, 0, 0, 0, 0, 0, 0, 0, 0, 0, 0, 0, 0, 0, 0, 0, 0, 0, 0, 0,\n",
       "       0, 0, 0, 0, 0, 0, 0, 0, 0, 0, 0, 0, 0, 0, 0, 0, 0, 0, 0, 0, 0, 0, 0,\n",
       "       0, 0, 0, 0, 0, 0, 0, 0, 0, 0, 0, 0, 0, 0, 0, 0, 0, 0, 0, 0, 0, 0, 0,\n",
       "       0, 0, 0, 0, 0, 0, 0, 0, 0, 0, 0, 0, 0, 0, 0, 0, 0, 0, 0, 0, 0, 0, 0,\n",
       "       0, 0, 0, 0, 0, 0, 0, 0, 0, 0, 0, 0, 0, 0, 0, 0, 0, 0, 0, 0, 0, 0, 0,\n",
       "       0, 0, 0, 0, 0, 0, 0, 0, 0, 0, 0, 0, 0, 0, 0, 0, 0, 0, 0, 0, 0, 0, 0,\n",
       "       0, 0, 0, 0, 0, 0, 0, 0, 0, 0, 0, 0, 0, 0, 0, 0, 0, 0, 0, 0, 0, 0, 0,\n",
       "       0, 0, 0, 0, 0, 0, 0, 0, 0, 0, 0, 0, 0, 0, 0, 0, 0, 0, 0, 0, 0, 0, 0,\n",
       "       0, 0, 0, 0, 0, 0, 0, 0, 0, 0, 0, 0, 0, 0, 0, 0, 0, 0, 0, 0, 0, 0, 0,\n",
       "       0, 0, 0, 0, 0, 0, 0, 0, 0, 0, 0, 0, 0, 0, 0, 0, 0, 0, 0, 0, 0, 0, 0,\n",
       "       0, 0, 0, 0, 0, 0, 0, 0, 0, 0, 0, 0, 0, 0, 0, 0, 0, 0, 0, 0, 0, 0, 0,\n",
       "       0, 0, 0, 0, 0, 0, 0, 0, 0, 0, 0, 0, 0, 0, 0, 0, 0, 0, 0, 0, 0, 0, 0,\n",
       "       0, 0, 0, 0, 0, 0, 0, 0, 0, 0, 0, 0, 0, 0, 0, 0, 0, 0, 0, 0, 0, 0, 0,\n",
       "       0, 0, 0, 0, 0, 0, 0, 0, 0, 0, 0, 0, 0, 0, 0, 0, 0, 0, 0, 0, 0, 0, 0,\n",
       "       0, 0, 0, 0, 0, 0, 0, 0, 0, 0, 0, 0, 0, 0, 0, 0, 0, 0, 0, 0, 0, 0, 0,\n",
       "       0, 0, 0, 0, 0, 0, 0, 0, 0, 0, 0, 0, 0, 0, 0, 0, 0, 0, 0, 0, 0, 0, 0,\n",
       "       0, 0, 0, 0, 0, 0, 0, 0, 0, 0, 0, 0, 0])"
      ]
     },
     "execution_count": 5,
     "metadata": {},
     "output_type": "execute_result"
    }
   ],
   "source": [
    "from sklearn.dummy import DummyClassifier\n",
    "\n",
    "# Negative class (0) is most frequent\n",
    "dummy_majority = DummyClassifier(strategy = 'most_frequent').fit(X_train, y_train)\n",
    "# Therefore the dummy 'most_frequent' classifier always predicts class 0\n",
    "y_dummy_predictions = dummy_majority.predict(X_test)\n",
    "\n",
    "y_dummy_predictions"
   ]
  },
  {
   "cell_type": "code",
   "execution_count": 6,
   "metadata": {
    "collapsed": false
   },
   "outputs": [
    {
     "data": {
      "text/plain": [
       "0.9044444444444445"
      ]
     },
     "execution_count": 6,
     "metadata": {},
     "output_type": "execute_result"
    }
   ],
   "source": [
    "dummy_majority.score(X_test, y_test)"
   ]
  },
  {
   "cell_type": "code",
   "execution_count": 7,
   "metadata": {
    "collapsed": false
   },
   "outputs": [
    {
     "data": {
      "text/plain": [
       "0.97777777777777775"
      ]
     },
     "execution_count": 7,
     "metadata": {},
     "output_type": "execute_result"
    }
   ],
   "source": [
    "svm = SVC(kernel='linear', C=1).fit(X_train, y_train)\n",
    "svm.score(X_test, y_test)"
   ]
  },
  {
   "cell_type": "markdown",
   "metadata": {},
   "source": [
    "### Confusion matrices"
   ]
  },
  {
   "cell_type": "markdown",
   "metadata": {},
   "source": [
    "#### Binary (two-class) confusion matrix"
   ]
  },
  {
   "cell_type": "code",
   "execution_count": 8,
   "metadata": {
    "collapsed": false
   },
   "outputs": [
    {
     "name": "stdout",
     "output_type": "stream",
     "text": [
      "Most frequent class (dummy classifier)\n",
      " [[407   0]\n",
      " [ 43   0]]\n"
     ]
    }
   ],
   "source": [
    "from sklearn.metrics import confusion_matrix\n",
    "\n",
    "# Negative class (0) is most frequent\n",
    "dummy_majority = DummyClassifier(strategy = 'most_frequent').fit(X_train, y_train)\n",
    "y_majority_predicted = dummy_majority.predict(X_test)\n",
    "confusion = confusion_matrix(y_test, y_majority_predicted)\n",
    "\n",
    "print('Most frequent class (dummy classifier)\\n', confusion)"
   ]
  },
  {
   "cell_type": "code",
   "execution_count": 9,
   "metadata": {
    "collapsed": false
   },
   "outputs": [
    {
     "name": "stdout",
     "output_type": "stream",
     "text": [
      "Random class-proportional prediction (dummy classifier)\n",
      " [[366  41]\n",
      " [ 40   3]]\n"
     ]
    }
   ],
   "source": [
    "# produces random predictions w/ same class proportion as training set\n",
    "dummy_classprop = DummyClassifier(strategy='stratified').fit(X_train, y_train)\n",
    "y_classprop_predicted = dummy_classprop.predict(X_test)\n",
    "confusion = confusion_matrix(y_test, y_classprop_predicted)\n",
    "\n",
    "print('Random class-proportional prediction (dummy classifier)\\n', confusion)"
   ]
  },
  {
   "cell_type": "code",
   "execution_count": 10,
   "metadata": {
    "collapsed": false,
    "scrolled": true
   },
   "outputs": [
    {
     "name": "stdout",
     "output_type": "stream",
     "text": [
      "Support vector machine classifier (linear kernel, C=1)\n",
      " [[402   5]\n",
      " [  5  38]]\n"
     ]
    }
   ],
   "source": [
    "svm = SVC(kernel='linear', C=1).fit(X_train, y_train)\n",
    "svm_predicted = svm.predict(X_test)\n",
    "confusion = confusion_matrix(y_test, svm_predicted)\n",
    "\n",
    "print('Support vector machine classifier (linear kernel, C=1)\\n', confusion)"
   ]
  },
  {
   "cell_type": "code",
   "execution_count": 11,
   "metadata": {
    "collapsed": false
   },
   "outputs": [
    {
     "name": "stdout",
     "output_type": "stream",
     "text": [
      "Logistic regression classifier (default settings)\n",
      " [[401   6]\n",
      " [  6  37]]\n"
     ]
    }
   ],
   "source": [
    "from sklearn.linear_model import LogisticRegression\n",
    "\n",
    "lr = LogisticRegression().fit(X_train, y_train)\n",
    "lr_predicted = lr.predict(X_test)\n",
    "confusion = confusion_matrix(y_test, lr_predicted)\n",
    "\n",
    "print('Logistic regression classifier (default settings)\\n', confusion)"
   ]
  },
  {
   "cell_type": "code",
   "execution_count": 12,
   "metadata": {
    "collapsed": false
   },
   "outputs": [
    {
     "name": "stdout",
     "output_type": "stream",
     "text": [
      "Decision tree classifier (max_depth = 2)\n",
      " [[400   7]\n",
      " [ 17  26]]\n"
     ]
    }
   ],
   "source": [
    "from sklearn.tree import DecisionTreeClassifier\n",
    "\n",
    "dt = DecisionTreeClassifier(max_depth=2).fit(X_train, y_train)\n",
    "tree_predicted = dt.predict(X_test)\n",
    "confusion = confusion_matrix(y_test, tree_predicted)\n",
    "\n",
    "print('Decision tree classifier (max_depth = 2)\\n', confusion)"
   ]
  },
  {
   "cell_type": "markdown",
   "metadata": {},
   "source": [
    "### Evaluation metrics for binary classification"
   ]
  },
  {
   "cell_type": "code",
   "execution_count": 13,
   "metadata": {
    "collapsed": false
   },
   "outputs": [
    {
     "name": "stdout",
     "output_type": "stream",
     "text": [
      "Accuracy: 0.95\n",
      "Precision: 0.79\n",
      "Recall: 0.60\n",
      "F1: 0.68\n"
     ]
    }
   ],
   "source": [
    "from sklearn.metrics import accuracy_score, precision_score, recall_score, f1_score\n",
    "# Accuracy = TP + TN / (TP + TN + FP + FN)\n",
    "# Precision = TP / (TP + FP)\n",
    "# Recall = TP / (TP + FN)  Also known as sensitivity, or True Positive Rate\n",
    "# F1 = 2 * Precision * Recall / (Precision + Recall) \n",
    "print('Accuracy: {:.2f}'.format(accuracy_score(y_test, tree_predicted)))\n",
    "print('Precision: {:.2f}'.format(precision_score(y_test, tree_predicted)))\n",
    "print('Recall: {:.2f}'.format(recall_score(y_test, tree_predicted)))\n",
    "print('F1: {:.2f}'.format(f1_score(y_test, tree_predicted)))"
   ]
  },
  {
   "cell_type": "code",
   "execution_count": 14,
   "metadata": {
    "collapsed": false
   },
   "outputs": [
    {
     "name": "stdout",
     "output_type": "stream",
     "text": [
      "             precision    recall  f1-score   support\n",
      "\n",
      "      not 1       0.96      0.98      0.97       407\n",
      "          1       0.79      0.60      0.68        43\n",
      "\n",
      "avg / total       0.94      0.95      0.94       450\n",
      "\n"
     ]
    }
   ],
   "source": [
    "# Combined report with all above metrics\n",
    "from sklearn.metrics import classification_report\n",
    "\n",
    "print(classification_report(y_test, tree_predicted, target_names=['not 1', '1']))"
   ]
  },
  {
   "cell_type": "code",
   "execution_count": 15,
   "metadata": {
    "collapsed": false,
    "scrolled": false
   },
   "outputs": [
    {
     "name": "stdout",
     "output_type": "stream",
     "text": [
      "Random class-proportional (dummy)\n",
      "              precision    recall  f1-score   support\n",
      "\n",
      "      not 1       0.90      0.90      0.90       407\n",
      "          1       0.07      0.07      0.07        43\n",
      "\n",
      "avg / total       0.82      0.82      0.82       450\n",
      "\n",
      "SVM\n",
      "              precision    recall  f1-score   support\n",
      "\n",
      "      not 1       0.99      0.99      0.99       407\n",
      "          1       0.88      0.88      0.88        43\n",
      "\n",
      "avg / total       0.98      0.98      0.98       450\n",
      "\n",
      "Logistic regression\n",
      "              precision    recall  f1-score   support\n",
      "\n",
      "      not 1       0.99      0.99      0.99       407\n",
      "          1       0.86      0.86      0.86        43\n",
      "\n",
      "avg / total       0.97      0.97      0.97       450\n",
      "\n",
      "Decision tree\n",
      "              precision    recall  f1-score   support\n",
      "\n",
      "      not 1       0.96      0.98      0.97       407\n",
      "          1       0.79      0.60      0.68        43\n",
      "\n",
      "avg / total       0.94      0.95      0.94       450\n",
      "\n"
     ]
    }
   ],
   "source": [
    "print('Random class-proportional (dummy)\\n', \n",
    "      classification_report(y_test, y_classprop_predicted, target_names=['not 1', '1']))\n",
    "print('SVM\\n', \n",
    "      classification_report(y_test, svm_predicted, target_names = ['not 1', '1']))\n",
    "print('Logistic regression\\n', \n",
    "      classification_report(y_test, lr_predicted, target_names = ['not 1', '1']))\n",
    "print('Decision tree\\n', \n",
    "      classification_report(y_test, tree_predicted, target_names = ['not 1', '1']))"
   ]
  },
  {
   "cell_type": "markdown",
   "metadata": {},
   "source": [
    "### Decision functions"
   ]
  },
  {
   "cell_type": "code",
   "execution_count": 16,
   "metadata": {
    "collapsed": false
   },
   "outputs": [
    {
     "data": {
      "text/plain": [
       "[(0, -23.172292973469549),\n",
       " (0, -13.542576515500066),\n",
       " (0, -21.717588760007864),\n",
       " (0, -18.903065133316442),\n",
       " (0, -19.733169947138638),\n",
       " (0, -9.7463217496747667),\n",
       " (1, 5.2327155658831117),\n",
       " (0, -19.308012306288916),\n",
       " (0, -25.099330209728528),\n",
       " (0, -21.824312362996),\n",
       " (0, -24.143782750720494),\n",
       " (0, -19.578811099762504),\n",
       " (0, -22.568371393280199),\n",
       " (0, -10.822590225240777),\n",
       " (0, -11.907918741521936),\n",
       " (0, -10.977026853802803),\n",
       " (1, 11.206811164226373),\n",
       " (0, -27.644157619807473),\n",
       " (0, -12.857692102545419),\n",
       " (0, -25.848149140240199)]"
      ]
     },
     "execution_count": 16,
     "metadata": {},
     "output_type": "execute_result"
    }
   ],
   "source": [
    "X_train, X_test, y_train, y_test = train_test_split(X, y_binary_imbalanced, random_state=0)\n",
    "y_scores_lr = lr.fit(X_train, y_train).decision_function(X_test)\n",
    "y_score_list = list(zip(y_test[0:20], y_scores_lr[0:20]))\n",
    "\n",
    "# show the decision_function scores for first 20 instances\n",
    "y_score_list"
   ]
  },
  {
   "cell_type": "code",
   "execution_count": 17,
   "metadata": {
    "collapsed": false
   },
   "outputs": [
    {
     "data": {
      "text/plain": [
       "[(0, 8.6377579220606466e-11),\n",
       " (0, 1.3138118599563736e-06),\n",
       " (0, 3.6997386039099659e-10),\n",
       " (0, 6.1730972504865241e-09),\n",
       " (0, 2.6914925394345074e-09),\n",
       " (0, 5.8506057771143608e-05),\n",
       " (1, 0.99468934644404694),\n",
       " (0, 4.1175302368500096e-09),\n",
       " (0, 1.2574750894253029e-11),\n",
       " (0, 3.3252290754668869e-10),\n",
       " (0, 3.269552979937297e-11),\n",
       " (0, 3.1407283576084996e-09),\n",
       " (0, 1.5800864117150149e-10),\n",
       " (0, 1.9943442430612578e-05),\n",
       " (0, 6.7368003023859777e-06),\n",
       " (0, 1.7089540581641637e-05),\n",
       " (1, 0.9999864188091131),\n",
       " (0, 9.8694940340196163e-13),\n",
       " (0, 2.6059983600823614e-06),\n",
       " (0, 5.9469113009063784e-12)]"
      ]
     },
     "execution_count": 17,
     "metadata": {},
     "output_type": "execute_result"
    }
   ],
   "source": [
    "X_train, X_test, y_train, y_test = train_test_split(X, y_binary_imbalanced, random_state=0)\n",
    "y_proba_lr = lr.fit(X_train, y_train).predict_proba(X_test)\n",
    "y_proba_list = list(zip(y_test[0:20], y_proba_lr[0:20,1]))\n",
    "\n",
    "# show the probability of positive class for first 20 instances\n",
    "y_proba_list"
   ]
  },
  {
   "cell_type": "markdown",
   "metadata": {},
   "source": [
    "### Precision-recall curves"
   ]
  },
  {
   "cell_type": "code",
   "execution_count": 20,
   "metadata": {
    "collapsed": false
   },
   "outputs": [
    {
     "data": {
      "application/javascript": [
       "/* Put everything inside the global mpl namespace */\n",
       "window.mpl = {};\n",
       "\n",
       "\n",
       "mpl.get_websocket_type = function() {\n",
       "    if (typeof(WebSocket) !== 'undefined') {\n",
       "        return WebSocket;\n",
       "    } else if (typeof(MozWebSocket) !== 'undefined') {\n",
       "        return MozWebSocket;\n",
       "    } else {\n",
       "        alert('Your browser does not have WebSocket support.' +\n",
       "              'Please try Chrome, Safari or Firefox ≥ 6. ' +\n",
       "              'Firefox 4 and 5 are also supported but you ' +\n",
       "              'have to enable WebSockets in about:config.');\n",
       "    };\n",
       "}\n",
       "\n",
       "mpl.figure = function(figure_id, websocket, ondownload, parent_element) {\n",
       "    this.id = figure_id;\n",
       "\n",
       "    this.ws = websocket;\n",
       "\n",
       "    this.supports_binary = (this.ws.binaryType != undefined);\n",
       "\n",
       "    if (!this.supports_binary) {\n",
       "        var warnings = document.getElementById(\"mpl-warnings\");\n",
       "        if (warnings) {\n",
       "            warnings.style.display = 'block';\n",
       "            warnings.textContent = (\n",
       "                \"This browser does not support binary websocket messages. \" +\n",
       "                    \"Performance may be slow.\");\n",
       "        }\n",
       "    }\n",
       "\n",
       "    this.imageObj = new Image();\n",
       "\n",
       "    this.context = undefined;\n",
       "    this.message = undefined;\n",
       "    this.canvas = undefined;\n",
       "    this.rubberband_canvas = undefined;\n",
       "    this.rubberband_context = undefined;\n",
       "    this.format_dropdown = undefined;\n",
       "\n",
       "    this.image_mode = 'full';\n",
       "\n",
       "    this.root = $('<div/>');\n",
       "    this._root_extra_style(this.root)\n",
       "    this.root.attr('style', 'display: inline-block');\n",
       "\n",
       "    $(parent_element).append(this.root);\n",
       "\n",
       "    this._init_header(this);\n",
       "    this._init_canvas(this);\n",
       "    this._init_toolbar(this);\n",
       "\n",
       "    var fig = this;\n",
       "\n",
       "    this.waiting = false;\n",
       "\n",
       "    this.ws.onopen =  function () {\n",
       "            fig.send_message(\"supports_binary\", {value: fig.supports_binary});\n",
       "            fig.send_message(\"send_image_mode\", {});\n",
       "            if (mpl.ratio != 1) {\n",
       "                fig.send_message(\"set_dpi_ratio\", {'dpi_ratio': mpl.ratio});\n",
       "            }\n",
       "            fig.send_message(\"refresh\", {});\n",
       "        }\n",
       "\n",
       "    this.imageObj.onload = function() {\n",
       "            if (fig.image_mode == 'full') {\n",
       "                // Full images could contain transparency (where diff images\n",
       "                // almost always do), so we need to clear the canvas so that\n",
       "                // there is no ghosting.\n",
       "                fig.context.clearRect(0, 0, fig.canvas.width, fig.canvas.height);\n",
       "            }\n",
       "            fig.context.drawImage(fig.imageObj, 0, 0);\n",
       "        };\n",
       "\n",
       "    this.imageObj.onunload = function() {\n",
       "        this.ws.close();\n",
       "    }\n",
       "\n",
       "    this.ws.onmessage = this._make_on_message_function(this);\n",
       "\n",
       "    this.ondownload = ondownload;\n",
       "}\n",
       "\n",
       "mpl.figure.prototype._init_header = function() {\n",
       "    var titlebar = $(\n",
       "        '<div class=\"ui-dialog-titlebar ui-widget-header ui-corner-all ' +\n",
       "        'ui-helper-clearfix\"/>');\n",
       "    var titletext = $(\n",
       "        '<div class=\"ui-dialog-title\" style=\"width: 100%; ' +\n",
       "        'text-align: center; padding: 3px;\"/>');\n",
       "    titlebar.append(titletext)\n",
       "    this.root.append(titlebar);\n",
       "    this.header = titletext[0];\n",
       "}\n",
       "\n",
       "\n",
       "\n",
       "mpl.figure.prototype._canvas_extra_style = function(canvas_div) {\n",
       "\n",
       "}\n",
       "\n",
       "\n",
       "mpl.figure.prototype._root_extra_style = function(canvas_div) {\n",
       "\n",
       "}\n",
       "\n",
       "mpl.figure.prototype._init_canvas = function() {\n",
       "    var fig = this;\n",
       "\n",
       "    var canvas_div = $('<div/>');\n",
       "\n",
       "    canvas_div.attr('style', 'position: relative; clear: both; outline: 0');\n",
       "\n",
       "    function canvas_keyboard_event(event) {\n",
       "        return fig.key_event(event, event['data']);\n",
       "    }\n",
       "\n",
       "    canvas_div.keydown('key_press', canvas_keyboard_event);\n",
       "    canvas_div.keyup('key_release', canvas_keyboard_event);\n",
       "    this.canvas_div = canvas_div\n",
       "    this._canvas_extra_style(canvas_div)\n",
       "    this.root.append(canvas_div);\n",
       "\n",
       "    var canvas = $('<canvas/>');\n",
       "    canvas.addClass('mpl-canvas');\n",
       "    canvas.attr('style', \"left: 0; top: 0; z-index: 0; outline: 0\")\n",
       "\n",
       "    this.canvas = canvas[0];\n",
       "    this.context = canvas[0].getContext(\"2d\");\n",
       "\n",
       "    var backingStore = this.context.backingStorePixelRatio ||\n",
       "\tthis.context.webkitBackingStorePixelRatio ||\n",
       "\tthis.context.mozBackingStorePixelRatio ||\n",
       "\tthis.context.msBackingStorePixelRatio ||\n",
       "\tthis.context.oBackingStorePixelRatio ||\n",
       "\tthis.context.backingStorePixelRatio || 1;\n",
       "\n",
       "    mpl.ratio = (window.devicePixelRatio || 1) / backingStore;\n",
       "\n",
       "    var rubberband = $('<canvas/>');\n",
       "    rubberband.attr('style', \"position: absolute; left: 0; top: 0; z-index: 1;\")\n",
       "\n",
       "    var pass_mouse_events = true;\n",
       "\n",
       "    canvas_div.resizable({\n",
       "        start: function(event, ui) {\n",
       "            pass_mouse_events = false;\n",
       "        },\n",
       "        resize: function(event, ui) {\n",
       "            fig.request_resize(ui.size.width, ui.size.height);\n",
       "        },\n",
       "        stop: function(event, ui) {\n",
       "            pass_mouse_events = true;\n",
       "            fig.request_resize(ui.size.width, ui.size.height);\n",
       "        },\n",
       "    });\n",
       "\n",
       "    function mouse_event_fn(event) {\n",
       "        if (pass_mouse_events)\n",
       "            return fig.mouse_event(event, event['data']);\n",
       "    }\n",
       "\n",
       "    rubberband.mousedown('button_press', mouse_event_fn);\n",
       "    rubberband.mouseup('button_release', mouse_event_fn);\n",
       "    // Throttle sequential mouse events to 1 every 20ms.\n",
       "    rubberband.mousemove('motion_notify', mouse_event_fn);\n",
       "\n",
       "    rubberband.mouseenter('figure_enter', mouse_event_fn);\n",
       "    rubberband.mouseleave('figure_leave', mouse_event_fn);\n",
       "\n",
       "    canvas_div.on(\"wheel\", function (event) {\n",
       "        event = event.originalEvent;\n",
       "        event['data'] = 'scroll'\n",
       "        if (event.deltaY < 0) {\n",
       "            event.step = 1;\n",
       "        } else {\n",
       "            event.step = -1;\n",
       "        }\n",
       "        mouse_event_fn(event);\n",
       "    });\n",
       "\n",
       "    canvas_div.append(canvas);\n",
       "    canvas_div.append(rubberband);\n",
       "\n",
       "    this.rubberband = rubberband;\n",
       "    this.rubberband_canvas = rubberband[0];\n",
       "    this.rubberband_context = rubberband[0].getContext(\"2d\");\n",
       "    this.rubberband_context.strokeStyle = \"#000000\";\n",
       "\n",
       "    this._resize_canvas = function(width, height) {\n",
       "        // Keep the size of the canvas, canvas container, and rubber band\n",
       "        // canvas in synch.\n",
       "        canvas_div.css('width', width)\n",
       "        canvas_div.css('height', height)\n",
       "\n",
       "        canvas.attr('width', width * mpl.ratio);\n",
       "        canvas.attr('height', height * mpl.ratio);\n",
       "        canvas.attr('style', 'width: ' + width + 'px; height: ' + height + 'px;');\n",
       "\n",
       "        rubberband.attr('width', width);\n",
       "        rubberband.attr('height', height);\n",
       "    }\n",
       "\n",
       "    // Set the figure to an initial 600x600px, this will subsequently be updated\n",
       "    // upon first draw.\n",
       "    this._resize_canvas(600, 600);\n",
       "\n",
       "    // Disable right mouse context menu.\n",
       "    $(this.rubberband_canvas).bind(\"contextmenu\",function(e){\n",
       "        return false;\n",
       "    });\n",
       "\n",
       "    function set_focus () {\n",
       "        canvas.focus();\n",
       "        canvas_div.focus();\n",
       "    }\n",
       "\n",
       "    window.setTimeout(set_focus, 100);\n",
       "}\n",
       "\n",
       "mpl.figure.prototype._init_toolbar = function() {\n",
       "    var fig = this;\n",
       "\n",
       "    var nav_element = $('<div/>')\n",
       "    nav_element.attr('style', 'width: 100%');\n",
       "    this.root.append(nav_element);\n",
       "\n",
       "    // Define a callback function for later on.\n",
       "    function toolbar_event(event) {\n",
       "        return fig.toolbar_button_onclick(event['data']);\n",
       "    }\n",
       "    function toolbar_mouse_event(event) {\n",
       "        return fig.toolbar_button_onmouseover(event['data']);\n",
       "    }\n",
       "\n",
       "    for(var toolbar_ind in mpl.toolbar_items) {\n",
       "        var name = mpl.toolbar_items[toolbar_ind][0];\n",
       "        var tooltip = mpl.toolbar_items[toolbar_ind][1];\n",
       "        var image = mpl.toolbar_items[toolbar_ind][2];\n",
       "        var method_name = mpl.toolbar_items[toolbar_ind][3];\n",
       "\n",
       "        if (!name) {\n",
       "            // put a spacer in here.\n",
       "            continue;\n",
       "        }\n",
       "        var button = $('<button/>');\n",
       "        button.addClass('ui-button ui-widget ui-state-default ui-corner-all ' +\n",
       "                        'ui-button-icon-only');\n",
       "        button.attr('role', 'button');\n",
       "        button.attr('aria-disabled', 'false');\n",
       "        button.click(method_name, toolbar_event);\n",
       "        button.mouseover(tooltip, toolbar_mouse_event);\n",
       "\n",
       "        var icon_img = $('<span/>');\n",
       "        icon_img.addClass('ui-button-icon-primary ui-icon');\n",
       "        icon_img.addClass(image);\n",
       "        icon_img.addClass('ui-corner-all');\n",
       "\n",
       "        var tooltip_span = $('<span/>');\n",
       "        tooltip_span.addClass('ui-button-text');\n",
       "        tooltip_span.html(tooltip);\n",
       "\n",
       "        button.append(icon_img);\n",
       "        button.append(tooltip_span);\n",
       "\n",
       "        nav_element.append(button);\n",
       "    }\n",
       "\n",
       "    var fmt_picker_span = $('<span/>');\n",
       "\n",
       "    var fmt_picker = $('<select/>');\n",
       "    fmt_picker.addClass('mpl-toolbar-option ui-widget ui-widget-content');\n",
       "    fmt_picker_span.append(fmt_picker);\n",
       "    nav_element.append(fmt_picker_span);\n",
       "    this.format_dropdown = fmt_picker[0];\n",
       "\n",
       "    for (var ind in mpl.extensions) {\n",
       "        var fmt = mpl.extensions[ind];\n",
       "        var option = $(\n",
       "            '<option/>', {selected: fmt === mpl.default_extension}).html(fmt);\n",
       "        fmt_picker.append(option)\n",
       "    }\n",
       "\n",
       "    // Add hover states to the ui-buttons\n",
       "    $( \".ui-button\" ).hover(\n",
       "        function() { $(this).addClass(\"ui-state-hover\");},\n",
       "        function() { $(this).removeClass(\"ui-state-hover\");}\n",
       "    );\n",
       "\n",
       "    var status_bar = $('<span class=\"mpl-message\"/>');\n",
       "    nav_element.append(status_bar);\n",
       "    this.message = status_bar[0];\n",
       "}\n",
       "\n",
       "mpl.figure.prototype.request_resize = function(x_pixels, y_pixels) {\n",
       "    // Request matplotlib to resize the figure. Matplotlib will then trigger a resize in the client,\n",
       "    // which will in turn request a refresh of the image.\n",
       "    this.send_message('resize', {'width': x_pixels, 'height': y_pixels});\n",
       "}\n",
       "\n",
       "mpl.figure.prototype.send_message = function(type, properties) {\n",
       "    properties['type'] = type;\n",
       "    properties['figure_id'] = this.id;\n",
       "    this.ws.send(JSON.stringify(properties));\n",
       "}\n",
       "\n",
       "mpl.figure.prototype.send_draw_message = function() {\n",
       "    if (!this.waiting) {\n",
       "        this.waiting = true;\n",
       "        this.ws.send(JSON.stringify({type: \"draw\", figure_id: this.id}));\n",
       "    }\n",
       "}\n",
       "\n",
       "\n",
       "mpl.figure.prototype.handle_save = function(fig, msg) {\n",
       "    var format_dropdown = fig.format_dropdown;\n",
       "    var format = format_dropdown.options[format_dropdown.selectedIndex].value;\n",
       "    fig.ondownload(fig, format);\n",
       "}\n",
       "\n",
       "\n",
       "mpl.figure.prototype.handle_resize = function(fig, msg) {\n",
       "    var size = msg['size'];\n",
       "    if (size[0] != fig.canvas.width || size[1] != fig.canvas.height) {\n",
       "        fig._resize_canvas(size[0], size[1]);\n",
       "        fig.send_message(\"refresh\", {});\n",
       "    };\n",
       "}\n",
       "\n",
       "mpl.figure.prototype.handle_rubberband = function(fig, msg) {\n",
       "    var x0 = msg['x0'] / mpl.ratio;\n",
       "    var y0 = (fig.canvas.height - msg['y0']) / mpl.ratio;\n",
       "    var x1 = msg['x1'] / mpl.ratio;\n",
       "    var y1 = (fig.canvas.height - msg['y1']) / mpl.ratio;\n",
       "    x0 = Math.floor(x0) + 0.5;\n",
       "    y0 = Math.floor(y0) + 0.5;\n",
       "    x1 = Math.floor(x1) + 0.5;\n",
       "    y1 = Math.floor(y1) + 0.5;\n",
       "    var min_x = Math.min(x0, x1);\n",
       "    var min_y = Math.min(y0, y1);\n",
       "    var width = Math.abs(x1 - x0);\n",
       "    var height = Math.abs(y1 - y0);\n",
       "\n",
       "    fig.rubberband_context.clearRect(\n",
       "        0, 0, fig.canvas.width, fig.canvas.height);\n",
       "\n",
       "    fig.rubberband_context.strokeRect(min_x, min_y, width, height);\n",
       "}\n",
       "\n",
       "mpl.figure.prototype.handle_figure_label = function(fig, msg) {\n",
       "    // Updates the figure title.\n",
       "    fig.header.textContent = msg['label'];\n",
       "}\n",
       "\n",
       "mpl.figure.prototype.handle_cursor = function(fig, msg) {\n",
       "    var cursor = msg['cursor'];\n",
       "    switch(cursor)\n",
       "    {\n",
       "    case 0:\n",
       "        cursor = 'pointer';\n",
       "        break;\n",
       "    case 1:\n",
       "        cursor = 'default';\n",
       "        break;\n",
       "    case 2:\n",
       "        cursor = 'crosshair';\n",
       "        break;\n",
       "    case 3:\n",
       "        cursor = 'move';\n",
       "        break;\n",
       "    }\n",
       "    fig.rubberband_canvas.style.cursor = cursor;\n",
       "}\n",
       "\n",
       "mpl.figure.prototype.handle_message = function(fig, msg) {\n",
       "    fig.message.textContent = msg['message'];\n",
       "}\n",
       "\n",
       "mpl.figure.prototype.handle_draw = function(fig, msg) {\n",
       "    // Request the server to send over a new figure.\n",
       "    fig.send_draw_message();\n",
       "}\n",
       "\n",
       "mpl.figure.prototype.handle_image_mode = function(fig, msg) {\n",
       "    fig.image_mode = msg['mode'];\n",
       "}\n",
       "\n",
       "mpl.figure.prototype.updated_canvas_event = function() {\n",
       "    // Called whenever the canvas gets updated.\n",
       "    this.send_message(\"ack\", {});\n",
       "}\n",
       "\n",
       "// A function to construct a web socket function for onmessage handling.\n",
       "// Called in the figure constructor.\n",
       "mpl.figure.prototype._make_on_message_function = function(fig) {\n",
       "    return function socket_on_message(evt) {\n",
       "        if (evt.data instanceof Blob) {\n",
       "            /* FIXME: We get \"Resource interpreted as Image but\n",
       "             * transferred with MIME type text/plain:\" errors on\n",
       "             * Chrome.  But how to set the MIME type?  It doesn't seem\n",
       "             * to be part of the websocket stream */\n",
       "            evt.data.type = \"image/png\";\n",
       "\n",
       "            /* Free the memory for the previous frames */\n",
       "            if (fig.imageObj.src) {\n",
       "                (window.URL || window.webkitURL).revokeObjectURL(\n",
       "                    fig.imageObj.src);\n",
       "            }\n",
       "\n",
       "            fig.imageObj.src = (window.URL || window.webkitURL).createObjectURL(\n",
       "                evt.data);\n",
       "            fig.updated_canvas_event();\n",
       "            fig.waiting = false;\n",
       "            return;\n",
       "        }\n",
       "        else if (typeof evt.data === 'string' && evt.data.slice(0, 21) == \"data:image/png;base64\") {\n",
       "            fig.imageObj.src = evt.data;\n",
       "            fig.updated_canvas_event();\n",
       "            fig.waiting = false;\n",
       "            return;\n",
       "        }\n",
       "\n",
       "        var msg = JSON.parse(evt.data);\n",
       "        var msg_type = msg['type'];\n",
       "\n",
       "        // Call the  \"handle_{type}\" callback, which takes\n",
       "        // the figure and JSON message as its only arguments.\n",
       "        try {\n",
       "            var callback = fig[\"handle_\" + msg_type];\n",
       "        } catch (e) {\n",
       "            console.log(\"No handler for the '\" + msg_type + \"' message type: \", msg);\n",
       "            return;\n",
       "        }\n",
       "\n",
       "        if (callback) {\n",
       "            try {\n",
       "                // console.log(\"Handling '\" + msg_type + \"' message: \", msg);\n",
       "                callback(fig, msg);\n",
       "            } catch (e) {\n",
       "                console.log(\"Exception inside the 'handler_\" + msg_type + \"' callback:\", e, e.stack, msg);\n",
       "            }\n",
       "        }\n",
       "    };\n",
       "}\n",
       "\n",
       "// from http://stackoverflow.com/questions/1114465/getting-mouse-location-in-canvas\n",
       "mpl.findpos = function(e) {\n",
       "    //this section is from http://www.quirksmode.org/js/events_properties.html\n",
       "    var targ;\n",
       "    if (!e)\n",
       "        e = window.event;\n",
       "    if (e.target)\n",
       "        targ = e.target;\n",
       "    else if (e.srcElement)\n",
       "        targ = e.srcElement;\n",
       "    if (targ.nodeType == 3) // defeat Safari bug\n",
       "        targ = targ.parentNode;\n",
       "\n",
       "    // jQuery normalizes the pageX and pageY\n",
       "    // pageX,Y are the mouse positions relative to the document\n",
       "    // offset() returns the position of the element relative to the document\n",
       "    var x = e.pageX - $(targ).offset().left;\n",
       "    var y = e.pageY - $(targ).offset().top;\n",
       "\n",
       "    return {\"x\": x, \"y\": y};\n",
       "};\n",
       "\n",
       "/*\n",
       " * return a copy of an object with only non-object keys\n",
       " * we need this to avoid circular references\n",
       " * http://stackoverflow.com/a/24161582/3208463\n",
       " */\n",
       "function simpleKeys (original) {\n",
       "  return Object.keys(original).reduce(function (obj, key) {\n",
       "    if (typeof original[key] !== 'object')\n",
       "        obj[key] = original[key]\n",
       "    return obj;\n",
       "  }, {});\n",
       "}\n",
       "\n",
       "mpl.figure.prototype.mouse_event = function(event, name) {\n",
       "    var canvas_pos = mpl.findpos(event)\n",
       "\n",
       "    if (name === 'button_press')\n",
       "    {\n",
       "        this.canvas.focus();\n",
       "        this.canvas_div.focus();\n",
       "    }\n",
       "\n",
       "    var x = canvas_pos.x * mpl.ratio;\n",
       "    var y = canvas_pos.y * mpl.ratio;\n",
       "\n",
       "    this.send_message(name, {x: x, y: y, button: event.button,\n",
       "                             step: event.step,\n",
       "                             guiEvent: simpleKeys(event)});\n",
       "\n",
       "    /* This prevents the web browser from automatically changing to\n",
       "     * the text insertion cursor when the button is pressed.  We want\n",
       "     * to control all of the cursor setting manually through the\n",
       "     * 'cursor' event from matplotlib */\n",
       "    event.preventDefault();\n",
       "    return false;\n",
       "}\n",
       "\n",
       "mpl.figure.prototype._key_event_extra = function(event, name) {\n",
       "    // Handle any extra behaviour associated with a key event\n",
       "}\n",
       "\n",
       "mpl.figure.prototype.key_event = function(event, name) {\n",
       "\n",
       "    // Prevent repeat events\n",
       "    if (name == 'key_press')\n",
       "    {\n",
       "        if (event.which === this._key)\n",
       "            return;\n",
       "        else\n",
       "            this._key = event.which;\n",
       "    }\n",
       "    if (name == 'key_release')\n",
       "        this._key = null;\n",
       "\n",
       "    var value = '';\n",
       "    if (event.ctrlKey && event.which != 17)\n",
       "        value += \"ctrl+\";\n",
       "    if (event.altKey && event.which != 18)\n",
       "        value += \"alt+\";\n",
       "    if (event.shiftKey && event.which != 16)\n",
       "        value += \"shift+\";\n",
       "\n",
       "    value += 'k';\n",
       "    value += event.which.toString();\n",
       "\n",
       "    this._key_event_extra(event, name);\n",
       "\n",
       "    this.send_message(name, {key: value,\n",
       "                             guiEvent: simpleKeys(event)});\n",
       "    return false;\n",
       "}\n",
       "\n",
       "mpl.figure.prototype.toolbar_button_onclick = function(name) {\n",
       "    if (name == 'download') {\n",
       "        this.handle_save(this, null);\n",
       "    } else {\n",
       "        this.send_message(\"toolbar_button\", {name: name});\n",
       "    }\n",
       "};\n",
       "\n",
       "mpl.figure.prototype.toolbar_button_onmouseover = function(tooltip) {\n",
       "    this.message.textContent = tooltip;\n",
       "};\n",
       "mpl.toolbar_items = [[\"Home\", \"Reset original view\", \"fa fa-home icon-home\", \"home\"], [\"Back\", \"Back to  previous view\", \"fa fa-arrow-left icon-arrow-left\", \"back\"], [\"Forward\", \"Forward to next view\", \"fa fa-arrow-right icon-arrow-right\", \"forward\"], [\"\", \"\", \"\", \"\"], [\"Pan\", \"Pan axes with left mouse, zoom with right\", \"fa fa-arrows icon-move\", \"pan\"], [\"Zoom\", \"Zoom to rectangle\", \"fa fa-square-o icon-check-empty\", \"zoom\"], [\"\", \"\", \"\", \"\"], [\"Download\", \"Download plot\", \"fa fa-floppy-o icon-save\", \"download\"]];\n",
       "\n",
       "mpl.extensions = [\"eps\", \"jpeg\", \"pdf\", \"png\", \"ps\", \"raw\", \"svg\", \"tif\"];\n",
       "\n",
       "mpl.default_extension = \"png\";var comm_websocket_adapter = function(comm) {\n",
       "    // Create a \"websocket\"-like object which calls the given IPython comm\n",
       "    // object with the appropriate methods. Currently this is a non binary\n",
       "    // socket, so there is still some room for performance tuning.\n",
       "    var ws = {};\n",
       "\n",
       "    ws.close = function() {\n",
       "        comm.close()\n",
       "    };\n",
       "    ws.send = function(m) {\n",
       "        //console.log('sending', m);\n",
       "        comm.send(m);\n",
       "    };\n",
       "    // Register the callback with on_msg.\n",
       "    comm.on_msg(function(msg) {\n",
       "        //console.log('receiving', msg['content']['data'], msg);\n",
       "        // Pass the mpl event to the overriden (by mpl) onmessage function.\n",
       "        ws.onmessage(msg['content']['data'])\n",
       "    });\n",
       "    return ws;\n",
       "}\n",
       "\n",
       "mpl.mpl_figure_comm = function(comm, msg) {\n",
       "    // This is the function which gets called when the mpl process\n",
       "    // starts-up an IPython Comm through the \"matplotlib\" channel.\n",
       "\n",
       "    var id = msg.content.data.id;\n",
       "    // Get hold of the div created by the display call when the Comm\n",
       "    // socket was opened in Python.\n",
       "    var element = $(\"#\" + id);\n",
       "    var ws_proxy = comm_websocket_adapter(comm)\n",
       "\n",
       "    function ondownload(figure, format) {\n",
       "        window.open(figure.imageObj.src);\n",
       "    }\n",
       "\n",
       "    var fig = new mpl.figure(id, ws_proxy,\n",
       "                           ondownload,\n",
       "                           element.get(0));\n",
       "\n",
       "    // Call onopen now - mpl needs it, as it is assuming we've passed it a real\n",
       "    // web socket which is closed, not our websocket->open comm proxy.\n",
       "    ws_proxy.onopen();\n",
       "\n",
       "    fig.parent_element = element.get(0);\n",
       "    fig.cell_info = mpl.find_output_cell(\"<div id='\" + id + \"'></div>\");\n",
       "    if (!fig.cell_info) {\n",
       "        console.error(\"Failed to find cell for figure\", id, fig);\n",
       "        return;\n",
       "    }\n",
       "\n",
       "    var output_index = fig.cell_info[2]\n",
       "    var cell = fig.cell_info[0];\n",
       "\n",
       "};\n",
       "\n",
       "mpl.figure.prototype.handle_close = function(fig, msg) {\n",
       "    var width = fig.canvas.width/mpl.ratio\n",
       "    fig.root.unbind('remove')\n",
       "\n",
       "    // Update the output cell to use the data from the current canvas.\n",
       "    fig.push_to_output();\n",
       "    var dataURL = fig.canvas.toDataURL();\n",
       "    // Re-enable the keyboard manager in IPython - without this line, in FF,\n",
       "    // the notebook keyboard shortcuts fail.\n",
       "    IPython.keyboard_manager.enable()\n",
       "    $(fig.parent_element).html('<img src=\"' + dataURL + '\" width=\"' + width + '\">');\n",
       "    fig.close_ws(fig, msg);\n",
       "}\n",
       "\n",
       "mpl.figure.prototype.close_ws = function(fig, msg){\n",
       "    fig.send_message('closing', msg);\n",
       "    // fig.ws.close()\n",
       "}\n",
       "\n",
       "mpl.figure.prototype.push_to_output = function(remove_interactive) {\n",
       "    // Turn the data on the canvas into data in the output cell.\n",
       "    var width = this.canvas.width/mpl.ratio\n",
       "    var dataURL = this.canvas.toDataURL();\n",
       "    this.cell_info[1]['text/html'] = '<img src=\"' + dataURL + '\" width=\"' + width + '\">';\n",
       "}\n",
       "\n",
       "mpl.figure.prototype.updated_canvas_event = function() {\n",
       "    // Tell IPython that the notebook contents must change.\n",
       "    IPython.notebook.set_dirty(true);\n",
       "    this.send_message(\"ack\", {});\n",
       "    var fig = this;\n",
       "    // Wait a second, then push the new image to the DOM so\n",
       "    // that it is saved nicely (might be nice to debounce this).\n",
       "    setTimeout(function () { fig.push_to_output() }, 1000);\n",
       "}\n",
       "\n",
       "mpl.figure.prototype._init_toolbar = function() {\n",
       "    var fig = this;\n",
       "\n",
       "    var nav_element = $('<div/>')\n",
       "    nav_element.attr('style', 'width: 100%');\n",
       "    this.root.append(nav_element);\n",
       "\n",
       "    // Define a callback function for later on.\n",
       "    function toolbar_event(event) {\n",
       "        return fig.toolbar_button_onclick(event['data']);\n",
       "    }\n",
       "    function toolbar_mouse_event(event) {\n",
       "        return fig.toolbar_button_onmouseover(event['data']);\n",
       "    }\n",
       "\n",
       "    for(var toolbar_ind in mpl.toolbar_items){\n",
       "        var name = mpl.toolbar_items[toolbar_ind][0];\n",
       "        var tooltip = mpl.toolbar_items[toolbar_ind][1];\n",
       "        var image = mpl.toolbar_items[toolbar_ind][2];\n",
       "        var method_name = mpl.toolbar_items[toolbar_ind][3];\n",
       "\n",
       "        if (!name) { continue; };\n",
       "\n",
       "        var button = $('<button class=\"btn btn-default\" href=\"#\" title=\"' + name + '\"><i class=\"fa ' + image + ' fa-lg\"></i></button>');\n",
       "        button.click(method_name, toolbar_event);\n",
       "        button.mouseover(tooltip, toolbar_mouse_event);\n",
       "        nav_element.append(button);\n",
       "    }\n",
       "\n",
       "    // Add the status bar.\n",
       "    var status_bar = $('<span class=\"mpl-message\" style=\"text-align:right; float: right;\"/>');\n",
       "    nav_element.append(status_bar);\n",
       "    this.message = status_bar[0];\n",
       "\n",
       "    // Add the close button to the window.\n",
       "    var buttongrp = $('<div class=\"btn-group inline pull-right\"></div>');\n",
       "    var button = $('<button class=\"btn btn-mini btn-primary\" href=\"#\" title=\"Stop Interaction\"><i class=\"fa fa-power-off icon-remove icon-large\"></i></button>');\n",
       "    button.click(function (evt) { fig.handle_close(fig, {}); } );\n",
       "    button.mouseover('Stop Interaction', toolbar_mouse_event);\n",
       "    buttongrp.append(button);\n",
       "    var titlebar = this.root.find($('.ui-dialog-titlebar'));\n",
       "    titlebar.prepend(buttongrp);\n",
       "}\n",
       "\n",
       "mpl.figure.prototype._root_extra_style = function(el){\n",
       "    var fig = this\n",
       "    el.on(\"remove\", function(){\n",
       "\tfig.close_ws(fig, {});\n",
       "    });\n",
       "}\n",
       "\n",
       "mpl.figure.prototype._canvas_extra_style = function(el){\n",
       "    // this is important to make the div 'focusable\n",
       "    el.attr('tabindex', 0)\n",
       "    // reach out to IPython and tell the keyboard manager to turn it's self\n",
       "    // off when our div gets focus\n",
       "\n",
       "    // location in version 3\n",
       "    if (IPython.notebook.keyboard_manager) {\n",
       "        IPython.notebook.keyboard_manager.register_events(el);\n",
       "    }\n",
       "    else {\n",
       "        // location in version 2\n",
       "        IPython.keyboard_manager.register_events(el);\n",
       "    }\n",
       "\n",
       "}\n",
       "\n",
       "mpl.figure.prototype._key_event_extra = function(event, name) {\n",
       "    var manager = IPython.notebook.keyboard_manager;\n",
       "    if (!manager)\n",
       "        manager = IPython.keyboard_manager;\n",
       "\n",
       "    // Check for shift+enter\n",
       "    if (event.shiftKey && event.which == 13) {\n",
       "        this.canvas_div.blur();\n",
       "        // select the cell after this one\n",
       "        var index = IPython.notebook.find_cell_index(this.cell_info[0]);\n",
       "        IPython.notebook.select(index + 1);\n",
       "    }\n",
       "}\n",
       "\n",
       "mpl.figure.prototype.handle_save = function(fig, msg) {\n",
       "    fig.ondownload(fig, null);\n",
       "}\n",
       "\n",
       "\n",
       "mpl.find_output_cell = function(html_output) {\n",
       "    // Return the cell and output element which can be found *uniquely* in the notebook.\n",
       "    // Note - this is a bit hacky, but it is done because the \"notebook_saving.Notebook\"\n",
       "    // IPython event is triggered only after the cells have been serialised, which for\n",
       "    // our purposes (turning an active figure into a static one), is too late.\n",
       "    var cells = IPython.notebook.get_cells();\n",
       "    var ncells = cells.length;\n",
       "    for (var i=0; i<ncells; i++) {\n",
       "        var cell = cells[i];\n",
       "        if (cell.cell_type === 'code'){\n",
       "            for (var j=0; j<cell.output_area.outputs.length; j++) {\n",
       "                var data = cell.output_area.outputs[j];\n",
       "                if (data.data) {\n",
       "                    // IPython >= 3 moved mimebundle to data attribute of output\n",
       "                    data = data.data;\n",
       "                }\n",
       "                if (data['text/html'] == html_output) {\n",
       "                    return [cell, data, j];\n",
       "                }\n",
       "            }\n",
       "        }\n",
       "    }\n",
       "}\n",
       "\n",
       "// Register the function which deals with the matplotlib target/channel.\n",
       "// The kernel may be null if the page has been refreshed.\n",
       "if (IPython.notebook.kernel != null) {\n",
       "    IPython.notebook.kernel.comm_manager.register_target('matplotlib', mpl.mpl_figure_comm);\n",
       "}\n"
      ],
      "text/plain": [
       "<IPython.core.display.Javascript object>"
      ]
     },
     "metadata": {},
     "output_type": "display_data"
    },
    {
     "data": {
      "text/html": [
       "<img src=\"data:image/png;base64,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\" width=\"800\">"
      ],
      "text/plain": [
       "<IPython.core.display.HTML object>"
      ]
     },
     "metadata": {},
     "output_type": "display_data"
    }
   ],
   "source": [
    "from sklearn.metrics import precision_recall_curve\n",
    "\n",
    "precision, recall, thresholds = precision_recall_curve(y_test, y_scores_lr)\n",
    "closest_zero = np.argmin(np.abs(thresholds))\n",
    "closest_zero_p = precision[closest_zero]\n",
    "closest_zero_r = recall[closest_zero]\n",
    "\n",
    "plt.figure()\n",
    "plt.xlim([0.0, 1.01])\n",
    "plt.ylim([0.0, 1.01])\n",
    "plt.plot(precision, recall, label='Precision-Recall Curve')\n",
    "#plt.plot(closest_zero_p, closest_zero_r, 'o', markersize = 12, fillstyle = 'none', c='r', mew=3)\n",
    "plt.xlabel('Precision', fontsize=16)\n",
    "plt.ylabel('Recall', fontsize=16)\n",
    "plt.axes().set_aspect('equal')\n",
    "plt.show()"
   ]
  },
  {
   "cell_type": "markdown",
   "metadata": {},
   "source": [
    "### ROC curves, Area-Under-Curve (AUC)"
   ]
  },
  {
   "cell_type": "code",
   "execution_count": null,
   "metadata": {
    "collapsed": false
   },
   "outputs": [],
   "source": [
    "from sklearn.metrics import roc_curve, auc\n",
    "\n",
    "X_train, X_test, y_train, y_test = train_test_split(X, y_binary_imbalanced, random_state=0)\n",
    "\n",
    "y_score_lr = lr.fit(X_train, y_train).decision_function(X_test)\n",
    "fpr_lr, tpr_lr, _ = roc_curve(y_test, y_score_lr)\n",
    "roc_auc_lr = auc(fpr_lr, tpr_lr)\n",
    "\n",
    "plt.figure()\n",
    "plt.xlim([-0.01, 1.00])\n",
    "plt.ylim([-0.01, 1.01])\n",
    "plt.plot(fpr_lr, tpr_lr, lw=3, label='LogRegr ROC curve (area = {:0.2f})'.format(roc_auc_lr))\n",
    "plt.xlabel('False Positive Rate', fontsize=16)\n",
    "plt.ylabel('True Positive Rate', fontsize=16)\n",
    "plt.title('ROC curve (1-of-10 digits classifier)', fontsize=16)\n",
    "plt.legend(loc='lower right', fontsize=13)\n",
    "plt.plot([0, 1], [0, 1], color='navy', lw=3, linestyle='--')\n",
    "plt.axes().set_aspect('equal')\n",
    "plt.show()"
   ]
  },
  {
   "cell_type": "code",
   "execution_count": null,
   "metadata": {
    "collapsed": false,
    "scrolled": false
   },
   "outputs": [],
   "source": [
    "from matplotlib import cm\n",
    "\n",
    "X_train, X_test, y_train, y_test = train_test_split(X, y_binary_imbalanced, random_state=0)\n",
    "\n",
    "plt.figure()\n",
    "plt.xlim([-0.01, 1.00])\n",
    "plt.ylim([-0.01, 1.01])\n",
    "for g in [0.01, 0.1, 0.20, 1]:\n",
    "    svm = SVC(gamma=g).fit(X_train, y_train)\n",
    "    y_score_svm = svm.decision_function(X_test)\n",
    "    fpr_svm, tpr_svm, _ = roc_curve(y_test, y_score_svm)\n",
    "    roc_auc_svm = auc(fpr_svm, tpr_svm)\n",
    "    accuracy_svm = svm.score(X_test, y_test)\n",
    "    print(\"gamma = {:.2f}  accuracy = {:.2f}   AUC = {:.2f}\".format(g, accuracy_svm, \n",
    "                                                                    roc_auc_svm))\n",
    "    plt.plot(fpr_svm, tpr_svm, lw=3, alpha=0.7, \n",
    "             label='SVM (gamma = {:0.2f}, area = {:0.2f})'.format(g, roc_auc_svm))\n",
    "\n",
    "plt.xlabel('False Positive Rate', fontsize=16)\n",
    "plt.ylabel('True Positive Rate (Recall)', fontsize=16)\n",
    "plt.plot([0, 1], [0, 1], color='k', lw=0.5, linestyle='--')\n",
    "plt.legend(loc=\"lower right\", fontsize=11)\n",
    "plt.title('ROC curve: (1-of-10 digits classifier)', fontsize=16)\n",
    "plt.axes().set_aspect('equal')\n",
    "\n",
    "plt.show()"
   ]
  },
  {
   "cell_type": "markdown",
   "metadata": {},
   "source": [
    "### Evaluation measures for multi-class classification"
   ]
  },
  {
   "cell_type": "markdown",
   "metadata": {},
   "source": [
    "#### Multi-class confusion matrix"
   ]
  },
  {
   "cell_type": "code",
   "execution_count": null,
   "metadata": {
    "collapsed": false,
    "scrolled": false
   },
   "outputs": [],
   "source": [
    "dataset = load_digits()\n",
    "X, y = dataset.data, dataset.target\n",
    "X_train_mc, X_test_mc, y_train_mc, y_test_mc = train_test_split(X, y, random_state=0)\n",
    "\n",
    "\n",
    "svm = SVC(kernel = 'linear').fit(X_train_mc, y_train_mc)\n",
    "svm_predicted_mc = svm.predict(X_test_mc)\n",
    "confusion_mc = confusion_matrix(y_test_mc, svm_predicted_mc)\n",
    "df_cm = pd.DataFrame(confusion_mc, \n",
    "                     index = [i for i in range(0,10)], columns = [i for i in range(0,10)])\n",
    "\n",
    "plt.figure(figsize=(5.5,4))\n",
    "sns.heatmap(df_cm, annot=True)\n",
    "plt.title('SVM Linear Kernel \\nAccuracy:{0:.3f}'.format(accuracy_score(y_test_mc, \n",
    "                                                                       svm_predicted_mc)))\n",
    "plt.ylabel('True label')\n",
    "plt.xlabel('Predicted label')\n",
    "\n",
    "\n",
    "svm = SVC(kernel = 'rbf').fit(X_train_mc, y_train_mc)\n",
    "svm_predicted_mc = svm.predict(X_test_mc)\n",
    "confusion_mc = confusion_matrix(y_test_mc, svm_predicted_mc)\n",
    "df_cm = pd.DataFrame(confusion_mc, index = [i for i in range(0,10)],\n",
    "                  columns = [i for i in range(0,10)])\n",
    "\n",
    "plt.figure(figsize = (5.5,4))\n",
    "sns.heatmap(df_cm, annot=True)\n",
    "plt.title('SVM RBF Kernel \\nAccuracy:{0:.3f}'.format(accuracy_score(y_test_mc, \n",
    "                                                                    svm_predicted_mc)))\n",
    "plt.ylabel('True label')\n",
    "plt.xlabel('Predicted label');"
   ]
  },
  {
   "cell_type": "markdown",
   "metadata": {},
   "source": [
    "#### Multi-class classification report"
   ]
  },
  {
   "cell_type": "code",
   "execution_count": null,
   "metadata": {
    "collapsed": false
   },
   "outputs": [],
   "source": [
    "print(classification_report(y_test_mc, svm_predicted_mc))"
   ]
  },
  {
   "cell_type": "markdown",
   "metadata": {},
   "source": [
    "#### Micro- vs. macro-averaged metrics"
   ]
  },
  {
   "cell_type": "code",
   "execution_count": null,
   "metadata": {
    "collapsed": false
   },
   "outputs": [],
   "source": [
    "print('Micro-averaged precision = {:.2f} (treat instances equally)'\n",
    "      .format(precision_score(y_test_mc, svm_predicted_mc, average = 'micro')))\n",
    "print('Macro-averaged precision = {:.2f} (treat classes equally)'\n",
    "      .format(precision_score(y_test_mc, svm_predicted_mc, average = 'macro')))"
   ]
  },
  {
   "cell_type": "code",
   "execution_count": null,
   "metadata": {
    "collapsed": false
   },
   "outputs": [],
   "source": [
    "print('Micro-averaged f1 = {:.2f} (treat instances equally)'\n",
    "      .format(f1_score(y_test_mc, svm_predicted_mc, average = 'micro')))\n",
    "print('Macro-averaged f1 = {:.2f} (treat classes equally)'\n",
    "      .format(f1_score(y_test_mc, svm_predicted_mc, average = 'macro')))"
   ]
  },
  {
   "cell_type": "markdown",
   "metadata": {},
   "source": [
    "### Regression evaluation metrics"
   ]
  },
  {
   "cell_type": "code",
   "execution_count": null,
   "metadata": {
    "collapsed": false
   },
   "outputs": [],
   "source": [
    "%matplotlib notebook\n",
    "import matplotlib.pyplot as plt\n",
    "import numpy as np\n",
    "from sklearn.model_selection import train_test_split\n",
    "from sklearn import datasets\n",
    "from sklearn.linear_model import LinearRegression\n",
    "from sklearn.metrics import mean_squared_error, r2_score\n",
    "from sklearn.dummy import DummyRegressor\n",
    "\n",
    "diabetes = datasets.load_diabetes()\n",
    "\n",
    "X = diabetes.data[:, None, 6]\n",
    "y = diabetes.target\n",
    "\n",
    "X_train, X_test, y_train, y_test = train_test_split(X, y, random_state=0)\n",
    "\n",
    "lm = LinearRegression().fit(X_train, y_train)\n",
    "lm_dummy_mean = DummyRegressor(strategy = 'mean').fit(X_train, y_train)\n",
    "\n",
    "y_predict = lm.predict(X_test)\n",
    "y_predict_dummy_mean = lm_dummy_mean.predict(X_test)\n",
    "\n",
    "print('Linear model, coefficients: ', lm.coef_)\n",
    "print(\"Mean squared error (dummy): {:.2f}\".format(mean_squared_error(y_test, \n",
    "                                                                     y_predict_dummy_mean)))\n",
    "print(\"Mean squared error (linear model): {:.2f}\".format(mean_squared_error(y_test, y_predict)))\n",
    "print(\"r2_score (dummy): {:.2f}\".format(r2_score(y_test, y_predict_dummy_mean)))\n",
    "print(\"r2_score (linear model): {:.2f}\".format(r2_score(y_test, y_predict)))\n",
    "\n",
    "# Plot outputs\n",
    "plt.scatter(X_test, y_test,  color='black')\n",
    "plt.plot(X_test, y_predict, color='green', linewidth=2)\n",
    "plt.plot(X_test, y_predict_dummy_mean, color='red', linestyle = 'dashed', \n",
    "         linewidth=2, label = 'dummy')\n",
    "\n",
    "plt.show()"
   ]
  },
  {
   "cell_type": "markdown",
   "metadata": {},
   "source": [
    "### Model selection using evaluation metrics"
   ]
  },
  {
   "cell_type": "markdown",
   "metadata": {},
   "source": [
    "#### Cross-validation example"
   ]
  },
  {
   "cell_type": "code",
   "execution_count": null,
   "metadata": {
    "collapsed": false
   },
   "outputs": [],
   "source": [
    "from sklearn.model_selection import cross_val_score\n",
    "from sklearn.svm import SVC\n",
    "\n",
    "dataset = load_digits()\n",
    "# again, making this a binary problem with 'digit 1' as positive class \n",
    "# and 'not 1' as negative class\n",
    "X, y = dataset.data, dataset.target == 1\n",
    "clf = SVC(kernel='linear', C=1)\n",
    "\n",
    "# accuracy is the default scoring metric\n",
    "print('Cross-validation (accuracy)', cross_val_score(clf, X, y, cv=5))\n",
    "# use AUC as scoring metric\n",
    "print('Cross-validation (AUC)', cross_val_score(clf, X, y, cv=5, scoring = 'roc_auc'))\n",
    "# use recall as scoring metric\n",
    "print('Cross-validation (recall)', cross_val_score(clf, X, y, cv=5, scoring = 'recall'))"
   ]
  },
  {
   "cell_type": "markdown",
   "metadata": {},
   "source": [
    "#### Grid search example"
   ]
  },
  {
   "cell_type": "code",
   "execution_count": 21,
   "metadata": {
    "collapsed": false
   },
   "outputs": [
    {
     "name": "stdout",
     "output_type": "stream",
     "text": [
      "Grid best parameter (max. accuracy):  {'gamma': 0.001}\n",
      "Grid best score (accuracy):  0.996288047513\n",
      "Test set AUC:  0.999828581224\n",
      "Grid best parameter (max. AUC):  {'gamma': 0.001}\n",
      "Grid best score (AUC):  0.99987412783\n"
     ]
    }
   ],
   "source": [
    "from sklearn.svm import SVC\n",
    "from sklearn.model_selection import GridSearchCV\n",
    "from sklearn.metrics import roc_auc_score\n",
    "\n",
    "dataset = load_digits()\n",
    "X, y = dataset.data, dataset.target == 1\n",
    "X_train, X_test, y_train, y_test = train_test_split(X, y, random_state=0)\n",
    "\n",
    "clf = SVC(kernel='rbf')\n",
    "grid_values = {'gamma': [0.001, 0.01, 0.05, 0.1, 1, 10, 100]}\n",
    "\n",
    "# default metric to optimize over grid parameters: accuracy\n",
    "grid_clf_acc = GridSearchCV(clf, param_grid = grid_values)\n",
    "grid_clf_acc.fit(X_train, y_train)\n",
    "y_decision_fn_scores_acc = grid_clf_acc.decision_function(X_test) \n",
    "\n",
    "print('Grid best parameter (max. accuracy): ', grid_clf_acc.best_params_)\n",
    "print('Grid best score (accuracy): ', grid_clf_acc.best_score_)\n",
    "\n",
    "# alternative metric to optimize over grid parameters: AUC\n",
    "grid_clf_auc = GridSearchCV(clf, param_grid = grid_values, scoring = 'roc_auc')\n",
    "grid_clf_auc.fit(X_train, y_train)\n",
    "y_decision_fn_scores_auc = grid_clf_auc.decision_function(X_test) \n",
    "\n",
    "print('Test set AUC: ', roc_auc_score(y_test, y_decision_fn_scores_auc))\n",
    "print('Grid best parameter (max. AUC): ', grid_clf_auc.best_params_)\n",
    "print('Grid best score (AUC): ', grid_clf_auc.best_score_)\n"
   ]
  },
  {
   "cell_type": "markdown",
   "metadata": {},
   "source": [
    "#### Evaluation metrics supported for model selection"
   ]
  },
  {
   "cell_type": "code",
   "execution_count": null,
   "metadata": {
    "collapsed": false
   },
   "outputs": [],
   "source": [
    "from sklearn.metrics.scorer import SCORERS\n",
    "\n",
    "print(sorted(list(SCORERS.keys())))"
   ]
  },
  {
   "cell_type": "markdown",
   "metadata": {},
   "source": [
    "### Two-feature classification example using the digits dataset"
   ]
  },
  {
   "cell_type": "markdown",
   "metadata": {},
   "source": [
    "#### Optimizing a classifier using different evaluation metrics"
   ]
  },
  {
   "cell_type": "code",
   "execution_count": null,
   "metadata": {
    "collapsed": false,
    "scrolled": false
   },
   "outputs": [],
   "source": [
    "from sklearn.datasets import load_digits\n",
    "from sklearn.model_selection import train_test_split\n",
    "from adspy_shared_utilities import plot_class_regions_for_classifier_subplot\n",
    "from sklearn.svm import SVC\n",
    "from sklearn.model_selection import GridSearchCV\n",
    "\n",
    "\n",
    "dataset = load_digits()\n",
    "X, y = dataset.data, dataset.target == 1\n",
    "X_train, X_test, y_train, y_test = train_test_split(X, y, random_state=0)\n",
    "\n",
    "# Create a two-feature input vector matching the example plot above\n",
    "# We jitter the points (add a small amount of random noise) in case there are areas\n",
    "# in feature space where many instances have the same features.\n",
    "jitter_delta = 0.25\n",
    "X_twovar_train = X_train[:,[20,59]]+ np.random.rand(X_train.shape[0], 2) - jitter_delta\n",
    "X_twovar_test  = X_test[:,[20,59]] + np.random.rand(X_test.shape[0], 2) - jitter_delta\n",
    "\n",
    "clf = SVC(kernel = 'linear').fit(X_twovar_train, y_train)\n",
    "grid_values = {'class_weight':['balanced', {1:2},{1:3},{1:4},{1:5},{1:10},{1:20},{1:50}]}\n",
    "plt.figure(figsize=(9,6))\n",
    "for i, eval_metric in enumerate(('precision','recall', 'f1','roc_auc')):\n",
    "    grid_clf_custom = GridSearchCV(clf, param_grid=grid_values, scoring=eval_metric)\n",
    "    grid_clf_custom.fit(X_twovar_train, y_train)\n",
    "    print('Grid best parameter (max. {0}): {1}'\n",
    "          .format(eval_metric, grid_clf_custom.best_params_))\n",
    "    print('Grid best score ({0}): {1}'\n",
    "          .format(eval_metric, grid_clf_custom.best_score_))\n",
    "    plt.subplots_adjust(wspace=0.3, hspace=0.3)\n",
    "    plot_class_regions_for_classifier_subplot(grid_clf_custom, X_twovar_test, y_test, None,\n",
    "                                             None, None,  plt.subplot(2, 2, i+1))\n",
    "    \n",
    "    plt.title(eval_metric+'-oriented SVC')\n",
    "plt.tight_layout()\n",
    "plt.show()"
   ]
  },
  {
   "cell_type": "markdown",
   "metadata": {},
   "source": [
    "#### Precision-recall curve for the default SVC classifier (with balanced class weights)"
   ]
  },
  {
   "cell_type": "code",
   "execution_count": null,
   "metadata": {
    "collapsed": false,
    "scrolled": false
   },
   "outputs": [],
   "source": [
    "from sklearn.model_selection import train_test_split\n",
    "from sklearn.metrics import precision_recall_curve\n",
    "from adspy_shared_utilities import plot_class_regions_for_classifier\n",
    "from sklearn.svm import SVC\n",
    "\n",
    "dataset = load_digits()\n",
    "X, y = dataset.data, dataset.target == 1\n",
    "X_train, X_test, y_train, y_test = train_test_split(X, y, random_state=0)\n",
    "\n",
    "# create a two-feature input vector matching the example plot above\n",
    "jitter_delta = 0.25\n",
    "X_twovar_train = X_train[:,[20,59]]+ np.random.rand(X_train.shape[0], 2) - jitter_delta\n",
    "X_twovar_test  = X_test[:,[20,59]] + np.random.rand(X_test.shape[0], 2) - jitter_delta\n",
    "\n",
    "clf = SVC(kernel='linear', class_weight='balanced').fit(X_twovar_train, y_train)\n",
    "\n",
    "y_scores = clf.decision_function(X_twovar_test)\n",
    "\n",
    "precision, recall, thresholds = precision_recall_curve(y_test, y_scores)\n",
    "closest_zero = np.argmin(np.abs(thresholds))\n",
    "closest_zero_p = precision[closest_zero]\n",
    "closest_zero_r = recall[closest_zero]\n",
    "\n",
    "plot_class_regions_for_classifier(clf, X_twovar_test, y_test)\n",
    "plt.title(\"SVC, class_weight = 'balanced', optimized for accuracy\")\n",
    "plt.show()\n",
    "\n",
    "plt.figure()\n",
    "plt.xlim([0.0, 1.01])\n",
    "plt.ylim([0.0, 1.01])\n",
    "plt.title (\"Precision-recall curve: SVC, class_weight = 'balanced'\")\n",
    "plt.plot(precision, recall, label = 'Precision-Recall Curve')\n",
    "plt.plot(closest_zero_p, closest_zero_r, 'o', markersize=12, fillstyle='none', c='r', mew=3)\n",
    "plt.xlabel('Precision', fontsize=16)\n",
    "plt.ylabel('Recall', fontsize=16)\n",
    "plt.axes().set_aspect('equal')\n",
    "plt.show()\n",
    "print('At zero threshold, precision: {:.2f}, recall: {:.2f}'\n",
    "      .format(closest_zero_p, closest_zero_r))"
   ]
  },
  {
   "cell_type": "code",
   "execution_count": null,
   "metadata": {
    "collapsed": true
   },
   "outputs": [],
   "source": []
  }
 ],
 "metadata": {
  "anaconda-cloud": {},
  "kernelspec": {
   "display_name": "Python 3",
   "language": "python",
   "name": "python3"
  },
  "language_info": {
   "codemirror_mode": {
    "name": "ipython",
    "version": 3
   },
   "file_extension": ".py",
   "mimetype": "text/x-python",
   "name": "python",
   "nbconvert_exporter": "python",
   "pygments_lexer": "ipython3",
   "version": "3.5.2"
  }
 },
 "nbformat": 4,
 "nbformat_minor": 1
}
